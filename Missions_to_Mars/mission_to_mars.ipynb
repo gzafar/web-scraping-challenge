{
 "cells": [
  {
   "cell_type": "code",
   "execution_count": null,
   "id": "9c935635",
   "metadata": {},
   "outputs": [],
   "source": [
    "from splinter import Browser\n",
    "from bs4 import BeautifulSoup as bs\n",
    "import pymongo\n",
    "import requests\n",
    "from webdriver_manager.chrome import ChromeDriverManager\n",
    "import pandas as pd\n",
    "from flask import Flask, render_template, redirect\n",
    "from flask_pymongo import PyMongo\n",
    "\n"
   ]
  },
  {
   "cell_type": "code",
   "execution_count": null,
   "id": "29490928",
   "metadata": {},
   "outputs": [],
   "source": [
    "executable_path = {'executable_path': ChromeDriverManager().install()}\n",
    "browser = Browser('chrome', **executable_path, headless=False)"
   ]
  },
  {
   "cell_type": "markdown",
   "id": "536eff61",
   "metadata": {},
   "source": [
    "# NASA Mars News"
   ]
  },
  {
   "cell_type": "code",
   "execution_count": null,
   "id": "2e24c6d5",
   "metadata": {},
   "outputs": [],
   "source": [
    "url = 'https://redplanetscience.com/'\n",
    "browser.visit(url)"
   ]
  },
  {
   "cell_type": "code",
   "execution_count": null,
   "id": "a7c40b68",
   "metadata": {},
   "outputs": [],
   "source": [
    "html = browser.html\n",
    "soup = bs(html, 'html.parser')"
   ]
  },
  {
   "cell_type": "code",
   "execution_count": null,
   "id": "3c7ad8e1",
   "metadata": {},
   "outputs": [],
   "source": [
    "news_title = soup.find_all('div', class_='content_title')[0].text\n",
    "news_p = soup.find_all('div', class_='article_teaser_body')[0].text\n",
    "\n",
    "news_title\n",
    "news_p"
   ]
  },
  {
   "cell_type": "markdown",
   "id": "2ef6bd24",
   "metadata": {},
   "source": [
    "# JPL Mars Space Images - Featured Image"
   ]
  },
  {
   "cell_type": "code",
   "execution_count": null,
   "id": "396dde88",
   "metadata": {},
   "outputs": [],
   "source": [
    "space_images_url = 'https://spaceimages-mars.com/'\n",
    "browser.visit(space_images_url)"
   ]
  },
  {
   "cell_type": "code",
   "execution_count": null,
   "id": "d0ace286",
   "metadata": {},
   "outputs": [],
   "source": [
    "html = browser.html\n",
    "soup = bs(html, 'html.parser')"
   ]
  },
  {
   "cell_type": "code",
   "execution_count": null,
   "id": "b493928a",
   "metadata": {},
   "outputs": [],
   "source": [
    "image_url = soup.find('img', class_='headerimage fade-in')['src']"
   ]
  },
  {
   "cell_type": "code",
   "execution_count": null,
   "id": "d62ea7cb",
   "metadata": {},
   "outputs": [],
   "source": [
    "featured_img_url = space_images_url+image_url\n",
    "featured_img_url"
   ]
  },
  {
   "cell_type": "markdown",
   "id": "16f95277",
   "metadata": {},
   "source": [
    "# Mars Facts"
   ]
  },
  {
   "cell_type": "code",
   "execution_count": null,
   "id": "b6a65bd7",
   "metadata": {},
   "outputs": [],
   "source": [
    "mars_url = 'https://galaxyfacts-mars.com/'\n",
    "browser.visit(mars_url)"
   ]
  },
  {
   "cell_type": "code",
   "execution_count": null,
   "id": "8feae63b",
   "metadata": {},
   "outputs": [],
   "source": [
    "table = pd.read_html(mars_url)\n",
    "df = table[0]\n",
    "df"
   ]
  },
  {
   "cell_type": "code",
   "execution_count": null,
   "id": "2a70e121",
   "metadata": {},
   "outputs": [],
   "source": [
    "html_table = df.to_html('table.html')\n",
    "html_table"
   ]
  },
  {
   "cell_type": "markdown",
   "id": "021d404d",
   "metadata": {},
   "source": [
    "# Mars Hemispheres"
   ]
  },
  {
   "cell_type": "code",
   "execution_count": null,
   "id": "9efecd6a",
   "metadata": {},
   "outputs": [],
   "source": [
    "mars_hemispheres_url = 'https://marshemispheres.com/'\n",
    "browser.visit(mars_hemispheres_url)"
   ]
  },
  {
   "cell_type": "code",
   "execution_count": null,
   "id": "271e0955",
   "metadata": {},
   "outputs": [],
   "source": [
    "html = browser.html\n",
    "soup = bs(html, 'html.parser')"
   ]
  },
  {
   "cell_type": "code",
   "execution_count": null,
   "id": "83d6fe6e",
   "metadata": {},
   "outputs": [],
   "source": [
    "hemispheres = soup.find('div', class_='collapsible results')"
   ]
  },
  {
   "cell_type": "code",
   "execution_count": null,
   "id": "9984a249",
   "metadata": {},
   "outputs": [],
   "source": [
    "mars_hemispheres = hemispheres.find_all('div', class_='item')\n",
    "mars_hemispheres = []"
   ]
  },
  {
   "cell_type": "code",
   "execution_count": null,
   "id": "2b48861b",
   "metadata": {},
   "outputs": [],
   "source": [
    "for hemisphere in mars_hemispheres:\n",
    "    img_desc = hemisphere.find('div', class_='description')\n",
    "    title = hemisphere.h3.text\n",
    "\n",
    "    hemisphere_url = img_desc.a['href']\n",
    "    \n",
    "    browser.visit(mars_hemispheres_url)\n",
    "    html = browser.html\n",
    "    soup = bs(html, 'html.parser')\n",
    "    img_src = soup.find('img', class_='thumb')['src']\n",
    "    \n",
    "    if(title and img_src):\n",
    "        print(title)\n",
    "        print(mars_hemispheres_url + img_src)\n",
    "        \n",
    "    hemisphere_dict = {\n",
    "        'title': title,\n",
    "        'img_src': img_src\n",
    "    }\n",
    "    \n",
    "    mars_hemispheres.append(hemisphere_dict)"
   ]
  },
  {
   "cell_type": "code",
   "execution_count": null,
   "id": "d9836560",
   "metadata": {},
   "outputs": [],
   "source": [
    "mars_dict = {\n",
    "    'news_title': news_title,\n",
    "    'news_p': news_p,\n",
    "    'featured_img_url': featured_img_url,\n",
    "    'html_table': html_table,\n",
    "    'mars_hemispheres': mars_hemispheres\n",
    "}\n",
    "\n",
    "mars_dict"
   ]
  },
  {
   "cell_type": "code",
   "execution_count": null,
   "id": "bd766539",
   "metadata": {},
   "outputs": [],
   "source": []
  },
  {
   "cell_type": "code",
   "execution_count": null,
   "id": "0a1245ed",
   "metadata": {},
   "outputs": [],
   "source": []
  },
  {
   "cell_type": "code",
   "execution_count": null,
   "id": "85052c44",
   "metadata": {},
   "outputs": [],
   "source": []
  },
  {
   "cell_type": "code",
   "execution_count": null,
   "id": "255727dc",
   "metadata": {},
   "outputs": [],
   "source": []
  },
  {
   "cell_type": "code",
   "execution_count": null,
   "id": "775c7100",
   "metadata": {},
   "outputs": [],
   "source": []
  },
  {
   "cell_type": "code",
   "execution_count": null,
   "id": "89e77e9f",
   "metadata": {},
   "outputs": [],
   "source": []
  }
 ],
 "metadata": {
  "kernelspec": {
   "display_name": "Python 3",
   "language": "python",
   "name": "python3"
  },
  "language_info": {
   "codemirror_mode": {
    "name": "ipython",
    "version": 3
   },
   "file_extension": ".py",
   "mimetype": "text/x-python",
   "name": "python",
   "nbconvert_exporter": "python",
   "pygments_lexer": "ipython3",
   "version": "3.8.8"
  }
 },
 "nbformat": 4,
 "nbformat_minor": 5
}
